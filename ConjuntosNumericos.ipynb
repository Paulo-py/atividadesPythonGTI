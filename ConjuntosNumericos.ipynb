{
  "nbformat": 4,
  "nbformat_minor": 0,
  "metadata": {
    "colab": {
      "provenance": []
    },
    "kernelspec": {
      "name": "python3",
      "display_name": "Python 3"
    },
    "language_info": {
      "name": "python"
    }
  },
  "cells": [
    {
      "cell_type": "code",
      "execution_count": null,
      "metadata": {
        "id": "eCeb9opIQae6"
      },
      "outputs": [],
      "source": [
        "naturais = {0, 1, 2, 3, 4, 5}\n",
        "inteiros = {-3, -2, -1, 0, 1, 2, 3}\n",
        "racionais = {0.5, -2.3, 1.75}\n",
        "reais = {3.14, -1.414, 2.718}\n"
      ]
    },
    {
      "cell_type": "code",
      "source": [
        "# prompt: Crie dois conjuntos A e B, de números reais quaisquer com 7 elementos cada. Gere código python para:\n",
        "# i) uniao entre os conjuntos\n",
        "# ii) intersecção entre os conjuntos\n",
        "# iii) diferença entre A e B e B e A\n",
        "\n",
        "# Criação dos conjuntos A e B com 7 elementos cada\n",
        "A = {1, 2, 3, 4, 5, 6, 7}\n",
        "B = {5, 6, 7, 8, 9, 10, 11}\n",
        "\n",
        "# i) União entre os conjuntos\n",
        "C = A | B\n",
        "uniao = A | B  # Ou A.union(B)\n",
        "print(\"União de A e B: (*uniao) \\n\", uniao)\n",
        "print(\"União de A e B: (*C) \\n\", C)\n",
        "\n",
        "\n"
      ],
      "metadata": {
        "colab": {
          "base_uri": "https://localhost:8080/"
        },
        "id": "S_NZ4HI2UH1z",
        "outputId": "b0f5284b-e72f-47ce-a9d9-dfd04877a1a3"
      },
      "execution_count": 11,
      "outputs": [
        {
          "output_type": "stream",
          "name": "stdout",
          "text": [
            "União de A e B: (*uniao) \n",
            " {1, 2, 3, 4, 5, 6, 7, 8, 9, 10, 11}\n",
            "União de A e B: (*C) \n",
            " {1, 2, 3, 4, 5, 6, 7, 8, 9, 10, 11}\n"
          ]
        }
      ]
    },
    {
      "cell_type": "code",
      "source": [
        "# ii) Intersecção entre os conjuntos\n",
        "D = A & B  # Ou A.intersection(B)\n",
        "interseccao = A.intersection(B)\n",
        "print(\"Intersecção de A e B com 'intersection' :\", D)\n",
        "print(\"Intersecção de A e B com '&' :\", interseccao)\n",
        "\n",
        "\n",
        ""
      ],
      "metadata": {
        "colab": {
          "base_uri": "https://localhost:8080/"
        },
        "id": "w5ouRoR1WJDs",
        "outputId": "8e6bf7c1-e7c8-4f9e-d39a-fb419e0a6505"
      },
      "execution_count": 7,
      "outputs": [
        {
          "output_type": "stream",
          "name": "stdout",
          "text": [
            "Intersecção de A e B: {5, 6, 7}\n",
            "Diferença entre A e B: {1, 2, 3, 4}\n",
            "Diferença entre B e A: {8, 9, 10, 11}\n"
          ]
        }
      ]
    },
    {
      "cell_type": "code",
      "source": [
        "# iii) Diferença entre A e B e B e A\n",
        "E = A - B\n",
        "diferenca_A_B = A - B  # Ou A.difference(B)\n",
        "print(\"Diferença entre A e B:\", diferenca_A_B)\n",
        "\n",
        "F = B - A\n",
        "diferenca_B_A = B - A  # Ou B.difference(A)\n",
        "print(\"Diferença entre B e A:\", F)\n",
        "\n"
      ],
      "metadata": {
        "colab": {
          "base_uri": "https://localhost:8080/"
        },
        "id": "lMwTEjS3ZHDl",
        "outputId": "6061a6bd-2649-4cf4-929f-037ee0242cdf"
      },
      "execution_count": 12,
      "outputs": [
        {
          "output_type": "stream",
          "name": "stdout",
          "text": [
            "Diferença entre A e B: {1, 2, 3, 4}\n",
            "Diferença entre B e A: {8, 9, 10, 11}\n"
          ]
        }
      ]
    },
    {
      "cell_type": "markdown",
      "source": [
        "isso"
      ],
      "metadata": {
        "id": "eDID4S_xenHe"
      }
    }
  ]
}
