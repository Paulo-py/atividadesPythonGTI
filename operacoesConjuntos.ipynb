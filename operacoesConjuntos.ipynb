{
 "cells": [
  {
   "cell_type": "markdown",
   "metadata": {},
   "source": [
    "### Respostas da questão 1 ###"
   ]
  },
  {
   "cell_type": "code",
   "execution_count": null,
   "metadata": {},
   "outputs": [
    {
     "name": "stdout",
     "output_type": "stream",
     "text": [
      "A U B =  {0, 1, 2, 3, 4, 5}\n"
     ]
    }
   ],
   "source": [
    "# a) Dados A = {0, 1, 2, 3} e B = {2, 3, 4, 5}, determine A ∪ B.\n",
    "\n",
    "A = {0, 1, 2, 3}\n",
    "B = {2, 3, 4, 5}\n",
    "C = A|B # A U B\n",
    "print(\"A U B = \", C)"
   ]
  },
  {
   "cell_type": "code",
   "execution_count": null,
   "metadata": {},
   "outputs": [
    {
     "name": "stdout",
     "output_type": "stream",
     "text": [
      "A - B =  {0, 2, 5}\n",
      "B - A =  {1, 3, 6, -2}\n"
     ]
    }
   ],
   "source": [
    "# b) Dados A = {- 1, 0, 2, 4, 5} e B = {- 2, - 1, 1, 3, 4, 6}, determine A - B e B - A]\n",
    "A = {- 1, 0, 2, 4, 5}\n",
    "B = {- 2, - 1, 1, 3, 4, 6}\n",
    "print(\"A - B = \", A - B)\n",
    "print(\"B - A = \", B - A)"
   ]
  },
  {
   "cell_type": "code",
   "execution_count": null,
   "metadata": {},
   "outputs": [
    {
     "data": {
      "text/plain": [
       "{4}"
      ]
     },
     "execution_count": 13,
     "metadata": {},
     "output_type": "execute_result"
    }
   ],
   "source": [
    "# c) Considere os conjuntos 𝐴 = {0, 1, 2, 3, 4, 5, 6}, 𝐵 = {1, 2}, 𝐶 = {2, 3, 4} 𝑒 𝐷 = {4, 5}, determine(𝐴 − 𝐵) ∩ (𝐶 ∩ 𝐷).\n",
    "A = {0, 1, 2, 3, 4, 5, 6}\n",
    "B = {1, 2}\n",
    "C = {2, 3, 4}\n",
    "D = {4, 5}\n",
    "E = A - B # A menos B\n",
    "F = C & D # F é o resultado da intersecção de C e B\n",
    "G = E & F # É o resultado de E e F\n",
    "G"
   ]
  },
  {
   "cell_type": "code",
   "execution_count": null,
   "metadata": {},
   "outputs": [
    {
     "data": {
      "text/plain": [
       "{0}"
      ]
     },
     "execution_count": 14,
     "metadata": {},
     "output_type": "execute_result"
    }
   ],
   "source": [
    "# d) Dados os conjuntos A = {0, -1, 1}, B = {1, 3, 4} e C = {0, 1}, determine (𝐴 − 𝐵) ∩ (𝐶 − 𝐵).\n",
    "A = {0, -1, 1}\n",
    "B = {1, 3, 4}\n",
    "C = {0, 1}\n",
    "\n",
    "E = A - B\n",
    "F = C - B\n",
    "G = E & F\n",
    "G"
   ]
  },
  {
   "cell_type": "code",
   "execution_count": null,
   "metadata": {},
   "outputs": [
    {
     "data": {
      "text/plain": [
       "{-2, 0, 1, 2}"
      ]
     },
     "execution_count": 15,
     "metadata": {},
     "output_type": "execute_result"
    }
   ],
   "source": [
    "# e) Dados os conjuntos A = {- 1, 0, 1}, B = {-2, 0, 1, 2} e C = {1, 2, 3, 4, 5}, determine o conjunto 𝐸 = (𝐴 ∪ 𝐵) ∩ (𝐵 ∪ 𝐶)\n",
    "A = {- 1, 0, 1}\n",
    "B = {-2, 0, 1, 2}\n",
    "C = {1, 2, 3, 4, 5}\n",
    "\n",
    "E = (A|B) & (B|C)\n",
    "E"
   ]
  },
  {
   "cell_type": "code",
   "execution_count": null,
   "metadata": {},
   "outputs": [
    {
     "name": "stdout",
     "output_type": "stream",
     "text": [
      "A & B :  {0, 2} \n",
      "\n",
      "C - (A & B) :  {1, 3, 4, 5} \n",
      "\n"
     ]
    }
   ],
   "source": [
    "# f) Dados os conjuntos A = {- 2, - 1, 0, 1, 2}, B = {0, 2, 4, 6} e C = {0, 1, 2, 3, 4, 5}, determine o conjunto C − (A ∩ B).\n",
    "A = {- 2, - 1, 0, 1, 2}\n",
    "B = {0, 2, 4, 6}\n",
    "C = {0, 1, 2, 3, 4, 5}\n",
    "\n",
    "D = A & B\n",
    "print(\"A & B : \", D, \"\\n\")\n",
    "\n",
    "E = C - D \n",
    "print(\"C - (A & B) : \", E, \"\\n\")\n"
   ]
  },
  {
   "cell_type": "code",
   "execution_count": 11,
   "metadata": {},
   "outputs": [
    {
     "name": "stdout",
     "output_type": "stream",
     "text": [
      "{1, 2, 3, 4}\n",
      "{0, 1, 2, 3, 4}\n",
      "set()\n"
     ]
    }
   ],
   "source": [
    "# g) Dados os conjuntos A = {1, 2, 3}, B = {2, 3, 4, 5} e C = {0, 1, 2, 3, 4}, determine o conjunto: [(A ∪ B) ∩ C] − [(A ∩ B) ∪ C] .\n",
    "A = {1, 2, 3}\n",
    "B = {2, 3, 4, 5}\n",
    "C = {0, 1, 2, 3, 4}\n",
    "\n",
    "E = (A | B) & C\n",
    "print(E)\n",
    "F = (A & B) | C\n",
    "print(F)\n",
    "G = (E & C) - (F | C)\n",
    "print(G)"
   ]
  },
  {
   "cell_type": "markdown",
   "metadata": {},
   "source": [
    "### Respostas da Questão 2 ###"
   ]
  },
  {
   "cell_type": "code",
   "execution_count": 16,
   "metadata": {},
   "outputs": [
    {
     "name": "stdout",
     "output_type": "stream",
     "text": [
      "B U A  = C é F\n"
     ]
    }
   ],
   "source": [
    "\n",
    "#Considerando os conjuntos A = {0, 1, 2, 3}, B = {- 2, - 1, 0, 1, 2} e C = {- 1, 0, 1, 2, 3, 4, 5}, analise cada afirmação como verdadeira (V) ou falsa (F).\n",
    "\n",
    "A = {0, 1, 2, 3}\n",
    "B = {- 2, - 1, 0, 1, 2}\n",
    "C = {- 1, 0, 1, 2, 3, 4, 5}\n",
    "\n",
    "#𝑎) 𝐵∪𝐴=C -> A | B == C\n",
    "\n",
    "if B | A == C:\n",
    "    print(\"B U A = C é V\")\n",
    "else:\n",
    "    print(\"B U A  = C é F\")"
   ]
  },
  {
   "cell_type": "code",
   "execution_count": 17,
   "metadata": {},
   "outputs": [
    {
     "name": "stdout",
     "output_type": "stream",
     "text": [
      "A & B = {0, 1, 2} é V\n"
     ]
    }
   ],
   "source": [
    "# 𝑏) 𝐴∩𝐵={0,1,2} -> A & B == {0,1,2}\n",
    "\n",
    "A = {0, 1, 2, 3}\n",
    "B = {- 2, - 1, 0, 1, 2}\n",
    "C = {- 1, 0, 1, 2, 3, 4, 5}\n",
    "\n",
    "if A & B == {0,1,2}:\n",
    "    print(\"A & B = {0, 1, 2} é V\")\n",
    "else:\n",
    "    print(\"A & B = {0, 1, 2} é F\")"
   ]
  },
  {
   "cell_type": "code",
   "execution_count": null,
   "metadata": {},
   "outputs": [],
   "source": [
    "# 𝑐) 𝐵−𝐶= {3,4,5} \n",
    "\n"
   ]
  },
  {
   "cell_type": "markdown",
   "metadata": {},
   "source": [
    "### Resposta da questão 3 ###\n",
    "#### Se 𝐴 ∪ 𝐵 = {0, 1, 2, 3, 4, 5, 6}, 𝐴 ∩ 𝐵 = {2, 4} e 𝐴–𝐵 = {1, 5, 6}, então podemos dizer que o conjunto B é igual a ####"
   ]
  },
  {
   "cell_type": "code",
   "execution_count": null,
   "metadata": {},
   "outputs": [
    {
     "name": "stdout",
     "output_type": "stream",
     "text": [
      "A =  {1, 2, 4, 5, 6} \n",
      "\n",
      "B =  {0, 2, 3, 4} \n",
      "\n"
     ]
    }
   ],
   "source": [
    "# Código para resolver: e A | B = {0, 1, 2, 3, 4, 5, 6}, A & B = {2, 4} e A - B = {1, 5, 6} então:\n",
    "\n",
    "AuniB = {0, 1, 2, 3, 4, 5, 6}\n",
    "AinterB = {2, 4}\n",
    "AmenosB = {1, 5, 6}\n",
    "\n",
    "A = AinterB | AmenosB\n",
    "print(\"A = \",A , \"\\n\")\n",
    "B = (AuniB - A) | AinterB\n",
    "print(\"B = \", B, \"\\n\")"
   ]
  },
  {
   "cell_type": "code",
   "execution_count": null,
   "metadata": {},
   "outputs": [],
   "source": []
  }
 ],
 "metadata": {
  "kernelspec": {
   "display_name": "Python 3",
   "language": "python",
   "name": "python3"
  },
  "language_info": {
   "codemirror_mode": {
    "name": "ipython",
    "version": 3
   },
   "file_extension": ".py",
   "mimetype": "text/x-python",
   "name": "python",
   "nbconvert_exporter": "python",
   "pygments_lexer": "ipython3",
   "version": "3.13.2"
  }
 },
 "nbformat": 4,
 "nbformat_minor": 2
}
