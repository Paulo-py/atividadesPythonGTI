{
 "cells": [
  {
   "cell_type": "code",
   "execution_count": 1,
   "metadata": {},
   "outputs": [
    {
     "name": "stdout",
     "output_type": "stream",
     "text": [
      "A U B =  {0, 1, 2, 3, 4, 5}\n"
     ]
    }
   ],
   "source": [
    "# Dados A = {0, 1, 2, 3} e B = {2, 3, 4, 5}, determine A ∪ B.\n",
    "\n",
    "A = {0, 1, 2, 3}\n",
    "B = {2, 3, 4, 5}\n",
    "C = A|B # A U B\n",
    "print(\"A U B = \", C)"
   ]
  },
  {
   "cell_type": "code",
   "execution_count": 2,
   "metadata": {},
   "outputs": [
    {
     "name": "stdout",
     "output_type": "stream",
     "text": [
      "A - B =  {0, 2, 5}\n",
      "B - A =  {1, 3, 6, -2}\n"
     ]
    }
   ],
   "source": [
    "#Dados A = {- 1, 0, 2, 4, 5} e B = {- 2, - 1, 1, 3, 4, 6}, determine A - B e B - A]\n",
    "A = {- 1, 0, 2, 4, 5}\n",
    "B = {- 2, - 1, 1, 3, 4, 6}\n",
    "print(\"A - B = \", A - B)\n",
    "print(\"B - A = \", B - A)"
   ]
  },
  {
   "cell_type": "code",
   "execution_count": 4,
   "metadata": {},
   "outputs": [
    {
     "ename": "TypeError",
     "evalue": "unsupported operand type(s) for -: 'set' and 'tuple'",
     "output_type": "error",
     "traceback": [
      "\u001b[31m---------------------------------------------------------------------------\u001b[39m",
      "\u001b[31mTypeError\u001b[39m                                 Traceback (most recent call last)",
      "\u001b[36mCell\u001b[39m\u001b[36m \u001b[39m\u001b[32mIn[4]\u001b[39m\u001b[32m, line 6\u001b[39m\n\u001b[32m      4\u001b[39m 𝐶 = {\u001b[32m2\u001b[39m, \u001b[32m3\u001b[39m, \u001b[32m4\u001b[39m}\n\u001b[32m      5\u001b[39m 𝐷 = {\u001b[32m4\u001b[39m, \u001b[32m5\u001b[39m}\n\u001b[32m----> \u001b[39m\u001b[32m6\u001b[39m \u001b[38;5;28mprint\u001b[39m((\u001b[43mA\u001b[49m\u001b[43m \u001b[49m\u001b[43m-\u001b[49m\u001b[43m \u001b[49m\u001b[43mB\u001b[49m) & (C&D))\n",
      "\u001b[31mTypeError\u001b[39m: unsupported operand type(s) for -: 'set' and 'tuple'"
     ]
    }
   ],
   "source": [
    "#Considere os conjuntos 𝐴 = {0, 1, 2, 3, 4, 5, 6}, 𝐵 = {1, 2}, 𝐶 = {2, 3, 4} 𝑒 𝐷 = {4, 5}, determine(𝐴 − 𝐵) ∩ (𝐶 ∩ 𝐷).\n",
    "𝐴 = {0, 1, 2, 3, 4, 5, 6}\n",
    "𝐵 = {1, 2}, \n",
    "𝐶 = {2, 3, 4}\n",
    "𝐷 = {4, 5}\n",
    "print((A - B) & (C&D))"
   ]
  }
 ],
 "metadata": {
  "kernelspec": {
   "display_name": "Python 3",
   "language": "python",
   "name": "python3"
  },
  "language_info": {
   "codemirror_mode": {
    "name": "ipython",
    "version": 3
   },
   "file_extension": ".py",
   "mimetype": "text/x-python",
   "name": "python",
   "nbconvert_exporter": "python",
   "pygments_lexer": "ipython3",
   "version": "3.13.2"
  }
 },
 "nbformat": 4,
 "nbformat_minor": 2
}
