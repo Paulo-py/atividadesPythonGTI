{
 "cells": [
  {
   "cell_type": "code",
   "execution_count": 1,
   "id": "e7edd026",
   "metadata": {},
   "outputs": [
    {
     "name": "stdout",
     "output_type": "stream",
     "text": [
      "Digite seu nome:  Paulo\n"
     ]
    }
   ],
   "source": [
    "# Definindo uma função\n",
    "def funcaoUm (nome):\n",
    "    print(\"Seu nome é %s\" %(nome))\n",
    "\n",
    "x = input(\"Digite seu nome: \")"
   ]
  },
  {
   "cell_type": "code",
   "execution_count": 2,
   "id": "3be55445",
   "metadata": {},
   "outputs": [
    {
     "name": "stdout",
     "output_type": "stream",
     "text": [
      "Digite seu nome: Paulo\n"
     ]
    },
    {
     "name": "stdout",
     "output_type": "stream",
     "text": [
      "Seu nome é Paulo\n"
     ]
    }
   ],
   "source": [
    "funcaoUm(input(\"Digite seu nome:\"))"
   ]
  },
  {
   "cell_type": "code",
   "execution_count": 3,
   "id": "3d49a5ca",
   "metadata": {},
   "outputs": [
    {
     "name": "stdout",
     "output_type": "stream",
     "text": [
      "Seu nome é Paulo\n"
     ]
    }
   ],
   "source": [
    "funcaoUm(x)"
   ]
  },
  {
   "cell_type": "code",
   "execution_count": 10,
   "id": "bf33c2f4-105d-4322-9239-343d0b93a84e",
   "metadata": {},
   "outputs": [],
   "source": [
    "def funcaoDois():\n",
    "    for i in range(0, 5):\n",
    "        print(\"Número: \" + str(i))"
   ]
  },
  {
   "cell_type": "code",
   "execution_count": 11,
   "id": "cf213607-50b4-4da9-a319-d6af4398b4f2",
   "metadata": {},
   "outputs": [
    {
     "name": "stdout",
     "output_type": "stream",
     "text": [
      "Número: 0\n",
      "Número: 1\n",
      "Número: 2\n",
      "Número: 3\n",
      "Número: 4\n"
     ]
    }
   ],
   "source": [
    "funcaoDois()"
   ]
  },
  {
   "cell_type": "code",
   "execution_count": 17,
   "id": "88820e6b-efb4-4a26-9a10-82ea1f36c734",
   "metadata": {},
   "outputs": [],
   "source": [
    "def notas():\n",
    "    n1 = float(input(\"Digite a N1:\"))\n",
    "    n2 = float(input(\"Digite a N2:\"))\n",
    "    n3 = float(input(\"Digite a N3:\"))\n",
    "\n",
    "    media = round((n1+n2+n3)/3, 2)\n",
    "    print(\"Sua média é\", media)"
   ]
  },
  {
   "cell_type": "code",
   "execution_count": 19,
   "id": "cf3d1814-fd9e-4bb1-8f8c-02cf8df95e1c",
   "metadata": {},
   "outputs": [
    {
     "name": "stdout",
     "output_type": "stream",
     "text": [
      "Digite a N1: 6.3\n",
      "Digite a N2: 6.8\n",
      "Digite a N3: 9.9\n"
     ]
    },
    {
     "name": "stdout",
     "output_type": "stream",
     "text": [
      "Sua média é 7.67\n"
     ]
    }
   ],
   "source": [
    "notas()"
   ]
  },
  {
   "cell_type": "code",
   "execution_count": 20,
   "id": "9003bc4a-c72b-4f6f-8852-ed3c06b7dde3",
   "metadata": {},
   "outputs": [],
   "source": [
    "import statistics as st\n",
    "def notas1():\n",
    "    n1 = float(input(\"Digite a N1:\"))\n",
    "    n2 = float(input(\"Digite a N2:\"))\n",
    "    n3 = float(input(\"Digite a N3:\"))\n",
    "\n",
    "    valor = [n1,n2,n3]\n",
    "\n",
    "    media = round(st.mean(valor), 1)\n",
    "    print(\"Sua média é\", media)"
   ]
  },
  {
   "cell_type": "code",
   "execution_count": 21,
   "id": "28efc94e-1cb6-4c2c-bef0-eb23650a4fd4",
   "metadata": {},
   "outputs": [
    {
     "name": "stdout",
     "output_type": "stream",
     "text": [
      "Digite a N1: 6\n",
      "Digite a N2: 8\n",
      "Digite a N3: 7\n"
     ]
    },
    {
     "name": "stdout",
     "output_type": "stream",
     "text": [
      "Sua média é 7.0\n"
     ]
    }
   ],
   "source": [
    "notas1()"
   ]
  },
  {
   "cell_type": "code",
   "execution_count": 22,
   "id": "e012355a-ba6f-4040-9468-f514d8b3c701",
   "metadata": {},
   "outputs": [],
   "source": [
    "import statistics as st\n",
    "def notas2():\n",
    "    n1 = float(input(\"Digite a N1:\"))\n",
    "    n2 = float(input(\"Digite a N2:\"))\n",
    "    n3 = float(input(\"Digite a N3:\"))\n",
    "\n",
    "    valor = [n1,n2,n3]\n",
    "\n",
    "    media = round(st.mean(valor), 1)\n",
    "    print(\"Sua média é\", media)\n",
    "    return media"
   ]
  },
  {
   "cell_type": "code",
   "execution_count": 25,
   "id": "37a00847-27d2-4d0a-b251-8d4b7054dfcd",
   "metadata": {},
   "outputs": [
    {
     "name": "stdout",
     "output_type": "stream",
     "text": [
      "Digite a N1: 6\n",
      "Digite a N2: 5\n",
      "Digite a N3: 7\n"
     ]
    },
    {
     "name": "stdout",
     "output_type": "stream",
     "text": [
      "Sua média é 6.0\n",
      "Aprovado com nota: 6.0\n"
     ]
    }
   ],
   "source": [
    "x = notas2()\n",
    "def resultado(x):\n",
    "    \n",
    "    if x >= 6:\n",
    "        print(\"Aprovado com nota:\", x)\n",
    "    elif x > 4 or x<6:\n",
    "        print(\"Recuperação com nota:\", x)\n",
    "    else:\n",
    "        print(\"Retido com nota:\", x)\n",
    "    \n",
    "resultado(x)"
   ]
  },
  {
   "cell_type": "code",
   "execution_count": 26,
   "id": "406282c2-caab-4b5a-a50b-11fb7a65f6b6",
   "metadata": {},
   "outputs": [],
   "source": [
    "#variável global\n",
    "var_global = 10\n",
    "def multiplica (n1,n2):\n",
    "    var_global = n1 * n2\n",
    "    return var_global"
   ]
  },
  {
   "cell_type": "code",
   "execution_count": 28,
   "id": "e3e4508f-e228-4a6a-a733-51f5d0252465",
   "metadata": {},
   "outputs": [
    {
     "data": {
      "text/plain": [
       "28"
      ]
     },
     "execution_count": 28,
     "metadata": {},
     "output_type": "execute_result"
    }
   ],
   "source": [
    "multiplica(4,7)"
   ]
  },
  {
   "cell_type": "code",
   "execution_count": 29,
   "id": "166e90c3-8313-4a04-879a-359a35b05db3",
   "metadata": {},
   "outputs": [],
   "source": [
    "#variavel local\n",
    "var_global = 10\n",
    "def divide():\n",
    "    var_local = n1/n2\n",
    "    return var_local"
   ]
  },
  {
   "cell_type": "code",
   "execution_count": 35,
   "id": "0c4f1fb8-927a-473d-8e3c-f24bed8bc708",
   "metadata": {},
   "outputs": [],
   "source": [
    "# Fazendo split dos dados\n",
    "def split_string(text):\n",
    "    return text.split(\" \")"
   ]
  },
  {
   "cell_type": "code",
   "execution_count": 36,
   "id": "7d549553-e16c-4bd4-b4ee-1f57e47946bd",
   "metadata": {},
   "outputs": [],
   "source": [
    "texto = (\"Esse texto será bastante útil\")"
   ]
  },
  {
   "cell_type": "code",
   "execution_count": 37,
   "id": "30fce983-3fc7-4a8e-a699-2554bd82eaf5",
   "metadata": {},
   "outputs": [
    {
     "name": "stdout",
     "output_type": "stream",
     "text": [
      "['Esse', 'texto', 'será', 'bastante', 'útil']\n"
     ]
    }
   ],
   "source": [
    "print(split_string(texto))"
   ]
  },
  {
   "cell_type": "code",
   "execution_count": 38,
   "id": "edf9d81f-22ec-4637-881c-44d6364057f4",
   "metadata": {},
   "outputs": [],
   "source": [
    "caixa_baixa = (\"Este Texto Deveria Estar Todo Em LowerCase\")"
   ]
  },
  {
   "cell_type": "code",
   "execution_count": 39,
   "id": "b7f9fcf9-e56e-43ff-b540-dbba92446201",
   "metadata": {},
   "outputs": [],
   "source": [
    "def lowercase(text):\n",
    "    return text.lower()\n",
    "    "
   ]
  },
  {
   "cell_type": "code",
   "execution_count": 40,
   "id": "f1a8cfb9-bd0d-45cd-bab2-c8d3d5fb8c38",
   "metadata": {},
   "outputs": [],
   "source": [
    "lowercased_string = lowercase(caixa_baixa)"
   ]
  },
  {
   "cell_type": "code",
   "execution_count": 41,
   "id": "f16caaee-6fe5-4c63-a047-f28b6e942051",
   "metadata": {},
   "outputs": [
    {
     "data": {
      "text/plain": [
       "'este texto deveria estar todo em lowercase'"
      ]
     },
     "execution_count": 41,
     "metadata": {},
     "output_type": "execute_result"
    }
   ],
   "source": [
    "lowercased_string"
   ]
  },
  {
   "cell_type": "code",
   "execution_count": null,
   "id": "b19c9274-768c-4b48-9a19-0203f9f02e53",
   "metadata": {},
   "outputs": [],
   "source": []
  }
 ],
 "metadata": {
  "kernelspec": {
   "display_name": "Python 3",
   "language": "python",
   "name": "python3"
  },
  "language_info": {
   "codemirror_mode": {
    "name": "ipython",
    "version": 3
   },
   "file_extension": ".py",
   "mimetype": "text/x-python",
   "name": "python",
   "nbconvert_exporter": "python",
   "pygments_lexer": "ipython3",
   "version": "3.13.2"
  }
 },
 "nbformat": 4,
 "nbformat_minor": 5
}
