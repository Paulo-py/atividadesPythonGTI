{
 "cells": [
  {
   "cell_type": "markdown",
   "id": "08766501",
   "metadata": {},
   "source": [
    "\n",
    "# 📘 Exercícios Integrados de Matemática e Python\n",
    "\n",
    "## 1 – Operações Básicas e Variáveis\n",
    "\n",
    "**Exemplos:**\n",
    "```python\n",
    "a = 5; b = 3; print(a + b)\n",
    "x = 7; y = 2; print(x - y)\n",
    "m = 4; n = 2; print(m * n)\n",
    "dividendo = 10; divisor = 2; print(dividendo / divisor)\n",
    "```\n",
    "\n",
    "**Atividade:**  \n",
    "Crie um programa em Python que recebe dois números inteiros e exibe:  \n",
    "- a soma  \n",
    "- a subtração  \n",
    "- a multiplicação  \n",
    "- a divisão entre eles\n",
    "\n",
    "---\n",
    "\n",
    "## 2 – Expressões Matemáticas e Precedência\n",
    "\n",
    "**Exemplos:**\n",
    "```python\n",
    "resultado = 2 + 3 * 4\n",
    "resultado = (2 + 3) * 4\n",
    "resposta = 10 / 2 + 5\n",
    "resposta = 10 / (2 + 5)\n",
    "```\n",
    "\n",
    "**Atividade:**  \n",
    "Escreva um programa que peça três números ao usuário e calcule:  \n",
    "\n",
    "$$\n",
    "(a + b) \\times c - a^2\n",
    "$$\n",
    "\n",
    "Mostre o resultado.\n",
    "\n",
    "---\n",
    "\n",
    "## 3 – Laços de Repetição e Tabuada\n",
    "\n",
    "**Exemplos:**\n",
    "```python\n",
    "for i in range(1, 6): print(i)\n",
    "for i in range(1, 11): print(f\"2 x {i} = {2*i}\")\n",
    "n = 3\n",
    "for i in range(1, 11): print(n * i)\n",
    "for i in range(1, 6): print(f\"Quadrado de {i} é {i**2}\")\n",
    "```\n",
    "\n",
    "**Atividade:**  \n",
    "Faça um programa que leia um número inteiro e exiba a **tabuada** dele do 1 ao 10.\n",
    "\n",
    "---\n",
    "\n",
    "## 4 – Condições e Cálculos\n",
    "\n",
    "**Exemplos:**\n",
    "```python\n",
    "if x % 2 == 0: print(\"Par\") else: print(\"Ímpar\")\n",
    "if nota >= 7: print(\"Aprovado\") else: print(\"Reprovado\")\n",
    "if a > b: print(a) else: print(b)\n",
    "if x < 0: print(\"Negativo\") else: print(\"Positivo\")\n",
    "```\n",
    "\n",
    "**Atividade:**  \n",
    "Crie um programa que receba três números reais e informe:  \n",
    "- o maior  \n",
    "- o menor  \n",
    "- a média aritmética\n",
    "\n",
    "---\n",
    "\n",
    "## 5 – Funções, Listas e Estatística\n",
    "\n",
    "**Exemplos:**\n",
    "```python\n",
    "def soma(lista): return sum(lista)\n",
    "numeros = [3, 5, 7]; media = sum(numeros)/len(numeros)\n",
    "valores = [4, 2, 9]; print(min(valores), max(valores))\n",
    "```\n",
    "\n",
    "**Atividade:**  \n",
    "Leia uma lista de números digitados pelo usuário e:  \n",
    "- calcule a média  \n",
    "- encontre o maior e o menor valor  \n",
    "- conte quantos números são maiores que a média\n",
    "\n",
    "---\n",
    "\n",
    "# 📘 Exercícios de Funções Matemáticas e Python\n",
    "\n",
    "## 1 – Funções Simples\n",
    "\n",
    "**Exemplos:**\n",
    "- $$f(x) = x + 2$$\n",
    "- $$f(x) = 3x$$\n",
    "- $$f(x) = x - 5$$\n",
    "- $$f(x) = 2x + 1$$\n",
    "\n",
    "**Atividade:**  \n",
    "Crie um programa que calcule:\n",
    "\n",
    "$$\n",
    "f(x) = 3x + 2\n",
    "$$\n",
    "\n",
    "com entrada do usuário para a variável x.\n",
    "\n",
    "---\n",
    "\n",
    "## 2 – Funções Lineares em Python\n",
    "\n",
    "**Exemplos:**\n",
    "```python\n",
    "def f(x): return 2*x + 3\n",
    "def g(x): return -x + 5\n",
    "def h(x): return 4*x - 7\n",
    "print(f(2))  # saída: 7\n",
    "```\n",
    "\n",
    "**Atividade:**  \n",
    "Implemente a função salário baseada em:\n",
    "\n",
    "$$\n",
    "S(h) = 20h + 200\n",
    "$$\n",
    "\n",
    "onde \\( h \\) é o número de horas trabalhadas. \n",
    "\n",
    "---\n",
    "\n",
    "## 3 – Funções Quadráticas\n",
    "\n",
    "**Exemplos:**\n",
    "- $$f(x) = x^2$$  \n",
    "- $$f(x) = x^2 - 4$$  \n",
    "- $$f(x) = 2x^2 + 3x + 1$$\n",
    "```python\n",
    "def f(x): return x**2 - 2*x + 1\n",
    "```\n",
    "\n",
    "**Atividade:**  \n",
    "Crie um programa que calcule:\n",
    "\n",
    "$$\n",
    "f(x) = x^2 - 3x + 2\n",
    "$$\n",
    "\n",
    "para valores de \\( x \\) de -5 a 5.\n",
    "\n",
    "---\n",
    "\n",
    "## 4 – Composição de Funções\n",
    "\n",
    "**Exemplos:**\n",
    "- $$f(x) = 2x + 1$$  \n",
    "- $$g(x) = x - 3$$  \n",
    "- $$f(g(x)) = 2(x - 3) + 1$$\n",
    "\n",
    "```python\n",
    "def f(x): return 2*x + 1\n",
    "def g(x): return x - 3\n",
    "print(f(g(5)))\n",
    "```\n",
    "\n",
    "**Atividade:**  \n",
    "Implemente:\n",
    "\n",
    "- $$f(x) = x^2 + 2$$  \n",
    "- $$g(x) = x - 4$$  \n",
    "\n",
    "e calcule:\n",
    "\n",
    "$$\n",
    "f(g(6))\n",
    "$$\n",
    "\n",
    "---\n",
    "\n",
    "## 5 – Função de Lucro\n",
    "\n",
    "**Exemplos:**\n",
    "- $$C(t) = 5t + 100$$  \n",
    "- $$V(t) = 10t$$  \n",
    "- $$L(t) = V(t) - C(t) = 10t - (5t + 100)$$\n",
    "\n",
    "```python\n",
    "def lucro(t): return 10*t - (5*t + 100)\n",
    "```\n",
    "\n",
    "**Atividade:**  \n",
    "Implemente a função:\n",
    "\n",
    "$$\n",
    "L(t) = 12t - (6t + 150)\n",
    "$$\n",
    "\n",
    "e mostre os resultados para \\( t = 0 \\) até \\( 20 \\).\n",
    "\n",
    "---\n"
   ]
  },
  {
   "cell_type": "code",
   "execution_count": 56,
   "id": "ef626dfd",
   "metadata": {},
   "outputs": [
    {
     "name": "stdout",
     "output_type": "stream",
     "text": [
      "A soma é:  4\n",
      "A subtração é:  0\n",
      "A multiplicação é:  4\n",
      "A divisão é:  1.0\n"
     ]
    }
   ],
   "source": [
    "# Atividade 1\n",
    "\n",
    "opcao1 = int(input(\"Digite o primeiro número: \"))\n",
    "opcao2 = int(input(\"Digite o segundo número: \"))\n",
    "\n",
    "print(\"A soma é: \", opcao1 + opcao2)\n",
    "print(\"A subtração é: \", opcao1 - opcao2)\n",
    "print(\"A multiplicação é: \", opcao1 * opcao2)\n",
    "print(\"A divisão é: \", opcao1 / opcao2)"
   ]
  },
  {
   "cell_type": "code",
   "execution_count": 57,
   "id": "3ca5c00a",
   "metadata": {},
   "outputs": [
    {
     "name": "stdout",
     "output_type": "stream",
     "text": [
      "O resultado é  4\n"
     ]
    }
   ],
   "source": [
    "# Atividade 2\n",
    "\n",
    "a = int(input(\"Digite o primeiro número: \"))\n",
    "b = int(input(\"Digite o segundo número: \"))\n",
    "c = int(input(\"Digite o terceiro número: \"))\n",
    "\n",
    "\n",
    "print(\"O resultado é \", ((a + b) * c - a**2)) #cálculo"
   ]
  },
  {
   "cell_type": "code",
   "execution_count": 58,
   "id": "a359922b",
   "metadata": {},
   "outputs": [
    {
     "name": "stdout",
     "output_type": "stream",
     "text": [
      "2 x 1 = 2\n",
      "2 x 2 = 4\n",
      "2 x 3 = 6\n",
      "2 x 4 = 8\n",
      "2 x 5 = 10\n",
      "2 x 6 = 12\n",
      "2 x 7 = 14\n",
      "2 x 8 = 16\n",
      "2 x 9 = 18\n",
      "2 x 10 = 20\n"
     ]
    }
   ],
   "source": [
    "# Atividade 3\n",
    "# Tabuada\n",
    "\n",
    "tabuada = int(input(\"Escolha um número para ser exibida a tabuada: \"))\n",
    "\n",
    "for i in range(1,11):(print(f\"{tabuada} x {i} = {tabuada * i}\")) # linha de código otimizada"
   ]
  },
  {
   "cell_type": "code",
   "execution_count": 59,
   "id": "a01d97c2",
   "metadata": {},
   "outputs": [],
   "source": [
    "import statistics"
   ]
  },
  {
   "cell_type": "code",
   "execution_count": 1,
   "id": "af45c9ba",
   "metadata": {},
   "outputs": [
    {
     "name": "stdout",
     "output_type": "stream",
     "text": [
      "O maior número é  9.0\n",
      "O menor número é  3.0\n",
      "A média dos números é  6.0\n"
     ]
    }
   ],
   "source": [
    "# Atividade 4\n",
    "#Crie um programa que receba três números reais e informe:  \n",
    "# - o maior  \n",
    "# - o menor  \n",
    "# - a média aritmética\n",
    "\n",
    "n1 = float(input(\"Digite um número qualquer: \"))\n",
    "n2 = float(input(\"Digite um número qualquer: \"))\n",
    "n3 = float(input(\"Digite um número qualquer: \"))\n",
    "\n",
    "# Função do número maior     \n",
    "def maiorNumero():\n",
    "    return max(n1, n2, n3)\n",
    "# Funçao do numero menor\n",
    "def menorNumero():\n",
    "    return min(n1, n2, n3)\n",
    "# função da média\n",
    "def media():\n",
    "    return (n1 + n2 + n3) /3\n",
    "\n",
    "\n",
    "print(\"O maior número é \",maiorNumero() )\n",
    "print(\"O menor número é \",menorNumero() )\n",
    "print(\"A média dos números é \",media() )"
   ]
  },
  {
   "cell_type": "code",
   "execution_count": null,
   "id": "9500c8f9",
   "metadata": {},
   "outputs": [
    {
     "name": "stdout",
     "output_type": "stream",
     "text": [
      "Por favor, digite um número válido.\n",
      "Números digitados: 31\n",
      "Média: 1.3548387096774193\n",
      "Maior valor: 12.0\n",
      "Menor valor: 1.0\n",
      "Números acima da média: 1\n"
     ]
    }
   ],
   "source": [
    "# Atividade 5\n",
    "# Leia uma lista de números digitados pelo usuário e:  \n",
    "# - calcule a média  \n",
    "# - encontre o maior e o menor valor  \n",
    "# - conte quantos números são maiores que a média\n",
    "\n",
    "numeros = []\n",
    "while True:\n",
    "    entrada = input(\"Digite um número (ou 'sair' para encerrar): \")\n",
    "    if entrada.lower() == 'sair':\n",
    "        break\n",
    "    try: # Usando try e except, verifico se o usuáruio digitou um número válido.\n",
    "        numero = float(entrada)\n",
    "        numeros.append(numero)\n",
    "    except ValueError: # O código quebra se o usuário digitar algo que não seja um número.\n",
    "        print(\"Por favor, digite um número válido.\") # Com o except, o código não quebra e continua pedindo números.\n",
    "if numeros:\n",
    "    media = sum(numeros) / len(numeros) # Cálculo da média\n",
    "    maior = max(numeros) # Encontrando o maior número\n",
    "    menor = min(numeros) # Encontrando o menor número\n",
    "    acima_media = sum(1 for num in numeros if num > media) # Contando quantos números são maiores que a média\n",
    "    print(f\"Números digitados: {len(numeros)}\")\n",
    "\n",
    "    print(f\"Média: {media}\")\n",
    "    print(f\"Maior valor: {maior}\")\n",
    "    print(f\"Menor valor: {menor}\")\n",
    "    print(f\"Números acima da média: {acima_media}\")"
   ]
  },
  {
   "cell_type": "markdown",
   "id": "29d64578",
   "metadata": {},
   "source": [
    "Atividades sobre Funções"
   ]
  },
  {
   "cell_type": "code",
   "execution_count": null,
   "id": "f070f3e1",
   "metadata": {},
   "outputs": [
    {
     "name": "stdout",
     "output_type": "stream",
     "text": [
      "f(8.56)= 3 * 8.56 + 2 = 27.68 )\n"
     ]
    }
   ],
   "source": [
    "# Atividade 1\n",
    "# Crie um programa que calcule f(x) = 3x + 2 em que o usuário informe o valor de x.\n",
    "\n",
    "x = float(input(\"Digite o valor de x: \"))\n",
    "funcaoX = 3 * x + 2 \n",
    "\n",
    "print(f\"f({x})= 3 * {x} + 2 = {funcaoX} )\")"
   ]
  },
  {
   "cell_type": "code",
   "execution_count": null,
   "id": "48d7ff0d",
   "metadata": {},
   "outputs": [
    {
     "name": "stdout",
     "output_type": "stream",
     "text": [
      "O salário baseado nas horas trabalhadas é: 980.0\n"
     ]
    }
   ],
   "source": [
    "# Atividade 2\n",
    "#Implemente a função salário baseada em:\n",
    "# S(h) = 20h + 200\n",
    "# onde h é o número de horas trabalhadas. \n",
    "\n",
    "h = float(input(\"Digite o número de horas trabalhadas: \"))\n",
    "#salario = 20 * h + 200 cálculo do salario\n",
    "def salario():\n",
    "    s = 20 * h + 200\n",
    "    return s\n",
    "\n",
    "\n",
    "print(f\"O salário baseado nas horas trabalhadas é: {salario()}\")"
   ]
  },
  {
   "cell_type": "code",
   "execution_count": null,
   "id": "bce90f5e",
   "metadata": {},
   "outputs": [
    {
     "name": "stdout",
     "output_type": "stream",
     "text": [
      "x=-5, f(x)=42\n",
      "x=-4, f(x)=30\n",
      "x=-3, f(x)=20\n",
      "x=-2, f(x)=12\n",
      "x=-1, f(x)=6\n",
      "x=0, f(x)=2\n",
      "x=1, f(x)=0\n",
      "x=2, f(x)=0\n",
      "x=3, f(x)=2\n",
      "x=4, f(x)=6\n",
      "x=5, f(x)=12\n"
     ]
    }
   ],
   "source": [
    "# Atividade 3\n",
    "#Crie um programa que calcule:\n",
    "#f(x) = x^2 - 3x + 2 para valores de \\( x \\) de -5 a 5.\n",
    "for x in range(-5, 6): print(f\"x={x}, f(x)={x**2 - 3*x + 2}\") # Usando list comprehension"
   ]
  },
  {
   "cell_type": "code",
   "execution_count": null,
   "id": "37c71589",
   "metadata": {},
   "outputs": [
    {
     "data": {
      "text/plain": [
       "2"
      ]
     },
     "execution_count": 54,
     "metadata": {},
     "output_type": "execute_result"
    }
   ],
   "source": [
    "# Atividade 4\n",
    "#Implemente:\n",
    "#f(x) = x^2 + 2\n",
    "#g(x) = x - 4\n",
    "# e calcule g(6)\n",
    "\n",
    "def f(x): return x**2 + 2\n",
    "def g(x): return x - 4\n",
    "\n",
    "g(6)"
   ]
  },
  {
   "cell_type": "code",
   "execution_count": null,
   "id": "db1490fb",
   "metadata": {},
   "outputs": [
    {
     "name": "stdout",
     "output_type": "stream",
     "text": [
      "t=0, L(t)=-150\n",
      "t=1, L(t)=-144\n",
      "t=2, L(t)=-138\n",
      "t=3, L(t)=-132\n",
      "t=4, L(t)=-126\n",
      "t=5, L(t)=-120\n",
      "t=6, L(t)=-114\n",
      "t=7, L(t)=-108\n",
      "t=8, L(t)=-102\n",
      "t=9, L(t)=-96\n",
      "t=10, L(t)=-90\n",
      "t=11, L(t)=-84\n",
      "t=12, L(t)=-78\n",
      "t=13, L(t)=-72\n",
      "t=14, L(t)=-66\n",
      "t=15, L(t)=-60\n",
      "t=16, L(t)=-54\n",
      "t=17, L(t)=-48\n",
      "t=18, L(t)=-42\n",
      "t=19, L(t)=-36\n",
      "t=20, L(t)=-30\n"
     ]
    }
   ],
   "source": [
    "# Atividade 5\n",
    "# Inplemente a função de Lucro: L(t) = 12t - (6t + 150)\n",
    "# e mostre os resultados de 0 até 20\n",
    "\n",
    "def L(t): return 12 * t - (6 *t + 150)\n",
    "\n",
    "for t in range(21): print(f\"t={t}, L(t)={L(t)}\")2"
   ]
  }
 ],
 "metadata": {
  "kernelspec": {
   "display_name": "Python 3",
   "language": "python",
   "name": "python3"
  },
  "language_info": {
   "codemirror_mode": {
    "name": "ipython",
    "version": 3
   },
   "file_extension": ".py",
   "mimetype": "text/x-python",
   "name": "python",
   "nbconvert_exporter": "python",
   "pygments_lexer": "ipython3",
   "version": "3.13.3"
  }
 },
 "nbformat": 4,
 "nbformat_minor": 5
}
