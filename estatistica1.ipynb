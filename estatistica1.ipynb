{
 "cells": [
  {
   "cell_type": "code",
   "execution_count": 34,
   "id": "64527839",
   "metadata": {},
   "outputs": [],
   "source": [
    "import statistics as st"
   ]
  },
  {
   "cell_type": "code",
   "execution_count": 35,
   "id": "2dc00c2d",
   "metadata": {},
   "outputs": [
    {
     "data": {
      "text/plain": [
       "20"
      ]
     },
     "execution_count": 35,
     "metadata": {},
     "output_type": "execute_result"
    }
   ],
   "source": [
    "valores = [2, 4, 6, 3, 2, 1, 4, 3, 5, 2, 1, 1, 4, 0, 2, 2, 5, 2, 2, 1]\n",
    "qtde = len(valores)\n",
    "qtde"
   ]
  },
  {
   "cell_type": "code",
   "execution_count": 36,
   "id": "b1276407",
   "metadata": {},
   "outputs": [
    {
     "data": {
      "text/plain": [
       "[0, 1, 1, 1, 1, 2, 2, 2, 2, 2, 2, 2, 3, 3, 4, 4, 4, 5, 5, 6]"
      ]
     },
     "execution_count": 36,
     "metadata": {},
     "output_type": "execute_result"
    }
   ],
   "source": [
    "#colocar os valores em ordem crecente\n",
    "valores.sort()\n",
    "valores"
   ]
  },
  {
   "cell_type": "code",
   "execution_count": 37,
   "id": "dc1a8501",
   "metadata": {},
   "outputs": [
    {
     "data": {
      "text/plain": [
       "2.6"
      ]
     },
     "execution_count": 37,
     "metadata": {},
     "output_type": "execute_result"
    }
   ],
   "source": [
    "#calcular a média\n",
    "media = sum(valores) / qtde\n",
    "media"
   ]
  },
  {
   "cell_type": "code",
   "execution_count": 38,
   "id": "cd0afccf",
   "metadata": {},
   "outputs": [
    {
     "data": {
      "text/plain": [
       "22.0"
      ]
     },
     "execution_count": 38,
     "metadata": {},
     "output_type": "execute_result"
    }
   ],
   "source": [
    "idades = [19, 20, 27, 27, 17]\n",
    "media_idades = sum(idades) / len(idades)\n",
    "media_idades"
   ]
  },
  {
   "cell_type": "code",
   "execution_count": 39,
   "id": "93a3ad5e",
   "metadata": {},
   "outputs": [
    {
     "data": {
      "text/plain": [
       "2.6"
      ]
     },
     "execution_count": 39,
     "metadata": {},
     "output_type": "execute_result"
    }
   ],
   "source": [
    "media_valores = st.mean(valores)\n",
    "media_valores"
   ]
  },
  {
   "cell_type": "code",
   "execution_count": 40,
   "id": "b2b91e01",
   "metadata": {},
   "outputs": [
    {
     "data": {
      "text/plain": [
       "2.6"
      ]
     },
     "execution_count": 40,
     "metadata": {},
     "output_type": "execute_result"
    }
   ],
   "source": [
    "mean_idades = st.mean(valores)\n",
    "media_valores"
   ]
  },
  {
   "cell_type": "code",
   "execution_count": 41,
   "id": "a9a1b123",
   "metadata": {},
   "outputs": [
    {
     "data": {
      "text/plain": [
       "25.5"
      ]
     },
     "execution_count": 41,
     "metadata": {},
     "output_type": "execute_result"
    }
   ],
   "source": [
    "idades.append(43)\n",
    "mean_idades = st.mean(idades)\n",
    "mean_idades"
   ]
  },
  {
   "cell_type": "code",
   "execution_count": 44,
   "id": "a2be73a6",
   "metadata": {},
   "outputs": [
    {
     "data": {
      "text/plain": [
       "[19, 20, 27, 27, 17, 43]"
      ]
     },
     "execution_count": 44,
     "metadata": {},
     "output_type": "execute_result"
    }
   ],
   "source": [
    "idades"
   ]
  },
  {
   "cell_type": "code",
   "execution_count": null,
   "id": "358c62c2",
   "metadata": {},
   "outputs": [
    {
     "data": {
      "text/plain": [
       "2"
      ]
     },
     "execution_count": 42,
     "metadata": {},
     "output_type": "execute_result"
    }
   ],
   "source": [
    "moda_valores = st.mode(valores)\n",
    "moda_valores"
   ]
  },
  {
   "cell_type": "code",
   "execution_count": 43,
   "id": "fddf4d7f",
   "metadata": {},
   "outputs": [
    {
     "data": {
      "text/plain": [
       "2.0"
      ]
     },
     "execution_count": 43,
     "metadata": {},
     "output_type": "execute_result"
    }
   ],
   "source": [
    "mediana_valores = st.median(valores)\n",
    "mediana_valores"
   ]
  },
  {
   "cell_type": "code",
   "execution_count": 47,
   "id": "16ae1b1b",
   "metadata": {},
   "outputs": [
    {
     "name": "stdout",
     "output_type": "stream",
     "text": [
      "A média das notas é 7, a mediana é 7 e a moda é 6\n"
     ]
    }
   ],
   "source": [
    "notas_alunos = [9, 9, 8, 8, 4, 4, 6, 6, 6, 7, 10]\n",
    "\n",
    "media_notas = st.mean(notas_alunos)\n",
    "mediana_notas = st.median(notas_alunos)\n",
    "moda_notas = st.mode(notas_alunos)\n",
    "\n",
    "print(f\"A média das notas é {media_notas}, a mediana é {mediana_notas} e a moda é {moda_notas}\")"
   ]
  },
  {
   "cell_type": "code",
   "execution_count": null,
   "id": "8dca7d67",
   "metadata": {},
   "outputs": [],
   "source": []
  }
 ],
 "metadata": {
  "kernelspec": {
   "display_name": "Python 3",
   "language": "python",
   "name": "python3"
  },
  "language_info": {
   "codemirror_mode": {
    "name": "ipython",
    "version": 3
   },
   "file_extension": ".py",
   "mimetype": "text/x-python",
   "name": "python",
   "nbconvert_exporter": "python",
   "pygments_lexer": "ipython3",
   "version": "3.13.2"
  }
 },
 "nbformat": 4,
 "nbformat_minor": 5
}
