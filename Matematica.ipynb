{
 "cells": [
  {
   "cell_type": "markdown",
   "metadata": {
    "colab_type": "text",
    "id": "view-in-github"
   },
   "source": [
    "<a href=\"https://colab.research.google.com/github/Paulo-py/atividadesPythonGTI/blob/main/Matematica.ipynb\" target=\"_parent\"><img src=\"https://colab.research.google.com/assets/colab-badge.svg\" alt=\"Open In Colab\"/></a>"
   ]
  },
  {
   "cell_type": "code",
   "execution_count": 1,
   "metadata": {
    "id": "eCeb9opIQae6"
   },
   "outputs": [],
   "source": [
    "naturais = {0, 1, 2, 3, 4, 5}\n",
    "inteiros = {-3, -2, -1, 0, 1, 2, 3}\n",
    "racionais = {0.5, -2.3, 1.75}\n",
    "reais = {3.14, -1.414, 2.718}\n"
   ]
  },
  {
   "cell_type": "code",
   "execution_count": 2,
   "metadata": {
    "colab": {
     "base_uri": "https://localhost:8080/"
    },
    "id": "S_NZ4HI2UH1z",
    "outputId": "b0f5284b-e72f-47ce-a9d9-dfd04877a1a3"
   },
   "outputs": [
    {
     "name": "stdout",
     "output_type": "stream",
     "text": [
      "União de A e B: (*uniao) \n",
      " {1, 2, 3, 4, 5, 6, 7, 8, 9, 10, 11}\n",
      "União de A e B: (*C) \n",
      " {1, 2, 3, 4, 5, 6, 7, 8, 9, 10, 11}\n"
     ]
    }
   ],
   "source": [
    "# prompt: Crie dois conjuntos A e B, de números reais quaisquer com 7 elementos cada. Gere código python para:\n",
    "# i) uniao entre os conjuntos\n",
    "# ii) intersecção entre os conjuntos\n",
    "# iii) diferença entre A e B e B e A\n",
    "\n",
    "# Criação dos conjuntos A e B com 7 elementos cada\n",
    "A = {1, 2, 3, 4, 5, 6, 7}\n",
    "B = {5, 6, 7, 8, 9, 10, 11}\n",
    "\n",
    "# i) União entre os conjuntos\n",
    "C = A | B\n",
    "uniao = A | B  # Ou A.union(B)\n",
    "print(\"União de A e B: (*uniao) \\n\", uniao)\n",
    "print(\"União de A e B: (*C) \\n\", C)\n",
    "\n",
    "\n"
   ]
  },
  {
   "cell_type": "code",
   "execution_count": 3,
   "metadata": {
    "colab": {
     "base_uri": "https://localhost:8080/"
    },
    "id": "w5ouRoR1WJDs",
    "outputId": "8e6bf7c1-e7c8-4f9e-d39a-fb419e0a6505"
   },
   "outputs": [
    {
     "name": "stdout",
     "output_type": "stream",
     "text": [
      "Intersecção de A e B com 'intersection' : {5, 6, 7}\n",
      "Intersecção de A e B com '&' : {5, 6, 7}\n"
     ]
    }
   ],
   "source": [
    "# ii) Intersecção entre os conjuntos\n",
    "D = A & B  # Ou A.intersection(B)\n",
    "interseccao = A.intersection(B)\n",
    "print(\"Intersecção de A e B com 'intersection' :\", D)\n",
    "print(\"Intersecção de A e B com '&' :\", interseccao)\n",
    "\n",
    "\n"
   ]
  },
  {
   "cell_type": "code",
   "execution_count": 4,
   "metadata": {
    "colab": {
     "base_uri": "https://localhost:8080/"
    },
    "id": "lMwTEjS3ZHDl",
    "outputId": "6061a6bd-2649-4cf4-929f-037ee0242cdf"
   },
   "outputs": [
    {
     "name": "stdout",
     "output_type": "stream",
     "text": [
      "Diferença entre A e B: {1, 2, 3, 4}\n",
      "Diferença entre B e A: {8, 9, 10, 11}\n"
     ]
    }
   ],
   "source": [
    "# iii) Diferença entre A e B e B e A\n",
    "E = A - B\n",
    "diferenca_A_B = A - B  # Ou A.difference(B)\n",
    "print(\"Diferença entre A e B:\", diferenca_A_B)\n",
    "\n",
    "F = B - A\n",
    "diferenca_B_A = B - A  # Ou B.difference(A)\n",
    "print(\"Diferença entre B e A:\", F)\n",
    "\n"
   ]
  },
  {
   "cell_type": "code",
   "execution_count": null,
   "metadata": {},
   "outputs": [],
   "source": []
  },
  {
   "cell_type": "code",
   "execution_count": null,
   "metadata": {},
   "outputs": [],
   "source": []
  }
 ],
 "metadata": {
  "colab": {
   "authorship_tag": "ABX9TyMKVIF2vh7+7VJ55Qs2crhq",
   "include_colab_link": true,
   "provenance": []
  },
  "kernelspec": {
   "display_name": "Python 3 (ipykernel)",
   "language": "python",
   "name": "python3"
  },
  "language_info": {
   "codemirror_mode": {
    "name": "ipython",
    "version": 3
   },
   "file_extension": ".py",
   "mimetype": "text/x-python",
   "name": "python",
   "nbconvert_exporter": "python",
   "pygments_lexer": "ipython3",
   "version": "3.13.2"
  }
 },
 "nbformat": 4,
 "nbformat_minor": 4
}
