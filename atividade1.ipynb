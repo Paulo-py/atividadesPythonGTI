{
 "cells": [
  {
   "cell_type": "code",
   "execution_count": 1,
   "id": "87117f00-9f00-4af6-a0c1-b9c07350a8f3",
   "metadata": {},
   "outputs": [
    {
     "name": "stdout",
     "output_type": "stream",
     "text": [
      "<class 'int'>\n"
     ]
    }
   ],
   "source": [
    "print(type(10))"
   ]
  },
  {
   "cell_type": "code",
   "execution_count": 2,
   "id": "04d5f48d-5870-4c1b-a4d9-3a8afd6a629a",
   "metadata": {},
   "outputs": [
    {
     "name": "stdout",
     "output_type": "stream",
     "text": [
      "<class 'float'>\n"
     ]
    }
   ],
   "source": [
    "print(type(3.14))"
   ]
  },
  {
   "cell_type": "code",
   "execution_count": 3,
   "id": "f875cac2-8396-4f94-bd5f-9fe7ae6e8bf1",
   "metadata": {},
   "outputs": [
    {
     "name": "stdout",
     "output_type": "stream",
     "text": [
      "<class 'bool'>\n"
     ]
    }
   ],
   "source": [
    "print(type(False))"
   ]
  },
  {
   "cell_type": "code",
   "execution_count": 4,
   "id": "103b5b42-5b93-4701-95eb-6791d9de1370",
   "metadata": {},
   "outputs": [
    {
     "data": {
      "text/plain": [
       "str"
      ]
     },
     "execution_count": 4,
     "metadata": {},
     "output_type": "execute_result"
    }
   ],
   "source": [
    "type(\"Texto\")"
   ]
  },
  {
   "cell_type": "code",
   "execution_count": 5,
   "id": "60632305-529e-479f-8088-5097fce01eb0",
   "metadata": {},
   "outputs": [
    {
     "name": "stdout",
     "output_type": "stream",
     "text": [
      "<class 'str'>\n"
     ]
    }
   ],
   "source": [
    "print(type(\"Python\"))"
   ]
  },
  {
   "cell_type": "code",
   "execution_count": 6,
   "id": "02add641-eaf7-48ab-babd-363150d18096",
   "metadata": {},
   "outputs": [
    {
     "name": "stdin",
     "output_type": "stream",
     "text": [
      "Digite seu nome:  UIUYITGY\n",
      "Digite sua idade:  45\n"
     ]
    },
    {
     "name": "stdout",
     "output_type": "stream",
     "text": [
      "Olá, UIUYITGY! Você tem 45 anos.\n"
     ]
    }
   ],
   "source": [
    "nome = input(\"Digite seu nome: \")\n",
    "idade = input(\"Digite sua idade: \")\n",
    "\n",
    "print(\"Olá, \" + nome + \"! Você tem \" + idade + \" anos.\")"
   ]
  },
  {
   "cell_type": "code",
   "execution_count": 7,
   "id": "38ee9023-d5a5-498f-8f53-c903ae044a41",
   "metadata": {},
   "outputs": [
    {
     "name": "stdin",
     "output_type": "stream",
     "text": [
      "Digite o seu primeiro número:  8\n",
      "Digite o seu segundo número:  8\n"
     ]
    },
    {
     "name": "stdout",
     "output_type": "stream",
     "text": [
      "Soma:  16.0\n",
      "Subtração:  0.0\n",
      "Multiplicação:  64.0\n",
      "Divisão:  1.0\n"
     ]
    }
   ],
   "source": [
    "num1 = float(input(\"Digite o seu primeiro número: \"))\n",
    "num2 = float(input(\"Digite o seu segundo número: \"))\n",
    "\n",
    "soma = num1 + num2\n",
    "subtracao = num1 - num2\n",
    "multiplicacao = num1 * num2\n",
    "divisao = num1 / num2\n",
    "\n",
    "print(\"Soma: \", soma)\n",
    "print(\"Subtração: \", subtracao)\n",
    "print(\"Multiplicação: \", multiplicacao)\n",
    "print(\"Divisão: \", divisao)"
   ]
  },
  {
   "cell_type": "code",
   "execution_count": 10,
   "id": "eb312bc9-8b3a-4eec-9051-9d8d0d819a79",
   "metadata": {},
   "outputs": [
    {
     "name": "stdin",
     "output_type": "stream",
     "text": [
      "Digite o primeiro número:  854\n",
      "Digite o segundo número 0\n"
     ]
    },
    {
     "name": "stdout",
     "output_type": "stream",
     "text": [
      "Escolha a operação: +, -, *, /\n"
     ]
    },
    {
     "name": "stdin",
     "output_type": "stream",
     "text": [
      "Digite a operação desejada:  /\n"
     ]
    },
    {
     "name": "stdout",
     "output_type": "stream",
     "text": [
      "Resultado:  Erro! Divisão por zero.\n"
     ]
    }
   ],
   "source": [
    "num1 = float(input(\"Digite o primeiro número: \"))\n",
    "num2 = float(input(\"Digite o segundo número\"))\n",
    "\n",
    "print(\"Escolha a operação: +, -, *, /\")\n",
    "operacao = input(\"Digite a operação desejada: \")\n",
    "\n",
    "if operacao == \"+\":\n",
    "    resultado = num1 + num2\n",
    "elif operacao == \"-\":\n",
    "    resultado = num1 - num2\n",
    "elif operacao == \"*\":\n",
    "    resultado = num1 * num2\n",
    "\n",
    "elif operacao == \"/\":\n",
    "    if num2 == 0:\n",
    "        resultado = \"Erro! Divisão por zero.\"\n",
    "    else:\n",
    "        resultado = num1 / num2\n",
    "else:\n",
    "    resultado = \"Operação inválida!\"\n",
    "\n",
    "print(\"Resultado: \", resultado)"
   ]
  },
  {
   "cell_type": "code",
   "execution_count": null,
   "id": "24e1d787-0c12-411d-9054-a3bc0d157897",
   "metadata": {},
   "outputs": [],
   "source": []
  }
 ],
 "metadata": {
  "kernelspec": {
   "display_name": "Python 3 (ipykernel)",
   "language": "python",
   "name": "python3"
  },
  "language_info": {
   "codemirror_mode": {
    "name": "ipython",
    "version": 3
   },
   "file_extension": ".py",
   "mimetype": "text/x-python",
   "name": "python",
   "nbconvert_exporter": "python",
   "pygments_lexer": "ipython3",
   "version": "3.13.2"
  }
 },
 "nbformat": 4,
 "nbformat_minor": 5
}
