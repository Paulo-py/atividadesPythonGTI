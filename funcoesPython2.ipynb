{
 "cells": [
  {
   "cell_type": "markdown",
   "metadata": {},
   "source": [
    "# Funções em Python - Exercícios"
   ]
  },
  {
   "cell_type": "markdown",
   "metadata": {},
   "source": [
    "## Função para calcular área de um retângulo"
   ]
  },
  {
   "cell_type": "code",
   "execution_count": null,
   "metadata": {},
   "outputs": [],
   "source": [
    "def calcular_area_retangulo(largura, altura):\n",
    "    \"\"\"Calcula a área de um retângulo\"\"\"\n",
    "    return largura * altura\n",
    "\n",
    "# Exemplo de uso\n",
    "area = calcular_area_retangulo(5, 3)\n",
    "print(f'A área do retângulo é: {area}')"
   ]
  },
  {
   "cell_type": "markdown",
   "metadata": {},
   "source": [
    "## Função para verificar se um número é par"
   ]
  },
  {
   "cell_type": "code",
   "execution_count": null,
   "metadata": {},
   "outputs": [],
   "source": [
    "def eh_par(numero):\n",
    "    \"\"\"Verifica se um número é par\"\"\"\n",
    "    return numero % 2 == 0\n",
    "\n",
    "# Exemplo de uso\n",
    "numero = 4\n",
    "if eh_par(numero):\n",
    "    print(f'O número {numero} é par')\n",
    "else:\n",
    "    print(f'O número {numero} é ímpar')"
   ]
  },
  {
   "cell_type": "markdown",
   "metadata": {},
   "source": [
    "## Função para calcular média de notas"
   ]
  },
  {
   "cell_type": "code",
   "execution_count": null,
   "metadata": {},
   "outputs": [],
   "source": [
    "def calcular_media(notas):\n",
    "    \"\"\"Calcula a média de uma lista de notas\"\"\"\n",
    "    if not notas:  # Verifica se a lista está vazia\n",
    "        return 0\n",
    "    return sum(notas) / len(notas)\n",
    "\n",
    "# Exemplo de uso\n",
    "notas = [7.5, 8.0, 6.5, 9.0]\n",
    "media = calcular_media(notas)\n",
    "print(f'A média das notas é: {media:.2f}')"
   ]
  },
  {
   "cell_type": "code",
   "execution_count": 1,
   "metadata": {},
   "outputs": [
    {
     "name": "stdout",
     "output_type": "stream",
     "text": [
      "Paulo Cesar\n"
     ]
    }
   ],
   "source": [
    "def nome_sobrenome(Pnome, Unome):\n",
    "    print(Pnome + \" \" + Unome)\n",
    "\n",
    "nome_sobrenome(\"Paulo\", \"Cesar\")"
   ]
  },
  {
   "cell_type": "code",
   "execution_count": 2,
   "metadata": {},
   "outputs": [
    {
     "ename": "TypeError",
     "evalue": "nome_sobrenome() missing 1 required positional argument: 'Unome'",
     "output_type": "error",
     "traceback": [
      "\u001b[31m---------------------------------------------------------------------------\u001b[39m",
      "\u001b[31mTypeError\u001b[39m                                 Traceback (most recent call last)",
      "\u001b[36mCell\u001b[39m\u001b[36m \u001b[39m\u001b[32mIn[2]\u001b[39m\u001b[32m, line 1\u001b[39m\n\u001b[32m----> \u001b[39m\u001b[32m1\u001b[39m \u001b[43mnome_sobrenome\u001b[49m\u001b[43m(\u001b[49m\u001b[33;43m\"\u001b[39;49m\u001b[33;43mPaulo\u001b[39;49m\u001b[33;43m\"\u001b[39;49m\u001b[43m)\u001b[49m\n",
      "\u001b[31mTypeError\u001b[39m: nome_sobrenome() missing 1 required positional argument: 'Unome'"
     ]
    }
   ],
   "source": [
    "nome_sobrenome(\"Paulo\")"
   ]
  },
  {
   "cell_type": "code",
   "execution_count": 7,
   "metadata": {},
   "outputs": [
    {
     "name": "stdout",
     "output_type": "stream",
     "text": [
      "A(o) criança mais velha(o) é Ícaro\n"
     ]
    }
   ],
   "source": [
    "#função com vários argumentos\n",
    "def any_args(*kids):\n",
    "    print(\"A(o) criança mais velha(o) é \"+ kids[-2])\n",
    "    \n",
    "any_args(\"Ana Clara\", \"Ícaro\", \"Sofia\")"
   ]
  },
  {
   "cell_type": "code",
   "execution_count": 8,
   "metadata": {},
   "outputs": [
    {
     "name": "stdout",
     "output_type": "stream",
     "text": [
      "maçã\n",
      "banana\n",
      "cereja\n"
     ]
    }
   ],
   "source": [
    "def my_function(alimento):\n",
    "    for x in alimento:\n",
    "        print(x)\n",
    "\n",
    "fruits = [\"maçã\", \"banana\", \"cereja\"]\n",
    "my_function(fruits)"
   ]
  },
  {
   "cell_type": "code",
   "execution_count": 14,
   "metadata": {},
   "outputs": [
    {
     "data": {
      "text/plain": [
       "3628800"
      ]
     },
     "execution_count": 14,
     "metadata": {},
     "output_type": "execute_result"
    }
   ],
   "source": [
    "def fatorial(x):\n",
    "    if x < 0:\n",
    "        print(\"Não tem euqatorial para número negativo!\")\n",
    "    elif x == 0:\n",
    "        return 1\n",
    "    else:\n",
    "        fat = 1\n",
    "        while(x > 1):\n",
    "            fat *= x\n",
    "            x -= 1\n",
    "        return fat\n",
    "\n",
    "x = int(input(\"Digite o número para calcular a fatorial\"))\n",
    "fatorial(x)"
   ]
  },
  {
   "cell_type": "code",
   "execution_count": null,
   "metadata": {},
   "outputs": [
    {
     "name": "stdout",
     "output_type": "stream",
     "text": [
      "O jogador Paulo fez 5 gol(s) no campeonato.\n"
     ]
    }
   ],
   "source": [
    "def ficha(jogador = 'desconhecido', gol = 0):\n",
    "    print('O jogador', jogador, 'fez', gol, 'gol(s) no campeonato.')\n",
    "\n",
    "name = input(\"Qual o nome do jogador? \")\n",
    "gol = input(\"Quantos gols o jogador fez? \")\n",
    "\n",
    "\n",
    "if gol.isnumeric():\n",
    "    gol=int(gol)\n",
    "else:\n",
    "    gol = 0\n",
    "\n",
    "if name.strip() == ' ':\n",
    "    ficha(gol = gol)\n",
    "else:\n",
    "    ficha(name, gol)\n",
    "    "
   ]
  },
  {
   "cell_type": "code",
   "execution_count": 20,
   "metadata": {},
   "outputs": [
    {
     "data": {
      "text/plain": [
       "100"
      ]
     },
     "execution_count": 20,
     "metadata": {},
     "output_type": "execute_result"
    }
   ],
   "source": [
    "potencia = lambda x : x**2\n",
    "\n",
    "potencia(int(input(\"Dê um número para potenciação: \")))"
   ]
  },
  {
   "cell_type": "code",
   "execution_count": 26,
   "metadata": {},
   "outputs": [
    {
     "name": "stdout",
     "output_type": "stream",
     "text": [
      "As raízes da equação são: x'= -0.45 e x'= 4.45\n"
     ]
    }
   ],
   "source": [
    "#Função raízes de uma equação do segundo grau.\n",
    "from math import sqrt\n",
    "\n",
    "def raizes(a, b, c):\n",
    "    delta = b**2 - 4*a*c\n",
    "    \n",
    "    if delta < 0:\n",
    "        print(\"A equação não tem raíz real\")\n",
    "    else:\n",
    "        x1 = (-b + sqrt(delta))/(2*a)\n",
    "        x2 = (-b - sqrt(delta))/(2*a)\n",
    "        x1 = round(x1,2)\n",
    "        x2 = round(x2,2)\n",
    "        print(\"As raízes da equação são: x'=\",x1,\"e x'=\",x2)\n",
    "        \n",
    "a = float(input(\"Digite o valor do coeficiente a.\"))\n",
    "b = float(input(\"Digite o valor do coeficiente b.\"))\n",
    "c = float(input(\"Digite o valor do coeficiente c.\"))\n",
    "\n",
    "raizes(a,b,c)\n"
   ]
  },
  {
   "cell_type": "code",
   "execution_count": null,
   "metadata": {},
   "outputs": [],
   "source": []
  }
 ],
 "metadata": {
  "kernelspec": {
   "display_name": "Python 3",
   "language": "python",
   "name": "python3"
  },
  "language_info": {
   "codemirror_mode": {
    "name": "ipython",
    "version": 3
   },
   "file_extension": ".py",
   "mimetype": "text/x-python",
   "name": "python",
   "nbconvert_exporter": "python",
   "pygments_lexer": "ipython3",
   "version": "3.13.2"
  }
 },
 "nbformat": 4,
 "nbformat_minor": 4
}
