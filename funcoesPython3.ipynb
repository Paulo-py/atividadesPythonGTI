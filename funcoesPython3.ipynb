{
 "cells": [
  {
   "cell_type": "markdown",
   "metadata": {},
   "source": [
    "# Funções em Python - Vários Exemplos"
   ]
  },
  {
   "cell_type": "markdown",
   "metadata": {},
   "source": [
    "## 1. Função com Parâmetros Padrão"
   ]
  },
  {
   "cell_type": "code",
   "execution_count": null,
   "metadata": {},
   "source": [
    "def saudacao(nome, saudacao=\"Olá\", periodo=\"dia\"):\n", "    \"\"\"Exibe uma saudação personalizada\"\"\"\n", "    return f'{saudacao}, {nome}! Tenha um bom {periodo}!\n", "\n", "# Exemplos de uso\n", "print(saudacao(\"Maria\"))\n", "print(saudacao(\"João\", \"Bom\", \"trabalho\"))\n", "print(saudacao(\"Ana\", periodo=\"final de semana\"))"
   ]
  },
  {
   "cell_type": "markdown",
   "metadata": {},
   "source": [
    "## 2. Função com *args"
   ]
  },
  {
   "cell_type": "code",
   "execution_count": null,
   "metadata": {},
   "source": [
    "def calcular_media(*notas):\n", "    \"\"\"Calcula a média de qualquer número de notas\"\"\"\n", "    if len(notas) == 0:\n", "        return 0\n", "    return sum(notas) / len(notas)\n", "\n", "# Exemplos de uso\n", "print(f'Média: {calcular_media(7, 8, 9):.2f}')\n", "print(f'Média: {calcular_media(6, 7, 8, 9, 10):.2f}')\n", "print(f'Média: {calcular_media()}:.2f')"
   ]
  },
  {
   "cell_type": "markdown",
   "metadata": {},
   "source": [
    "## 3. Função com **kwargs"
   ]
  },
  {
   "cell_type": "code",
   "execution_count": null,
   "metadata": {},
   "source": [
    "def criar_perfil(**info):\n", "    \"\"\"Cria um perfil com informações variáveis\"\"\"\n", "    perfil = \"Perfil:\n\"\n", "    for chave, valor in info.items():\n", "        perfil += f'{chave}: {valor}\n'\n", "    return perfil\n", "\n", "# Exemplo de uso\n", "print(criar_perfil(nome=\"Maria\", idade=25, cidade=\"São Paulo\"))\n", "print(criar_perfil(nome=\"João\", curso=\"Engenharia\"))"
   ]
  },
  {
   "cell_type": "markdown",
   "metadata": {},
   "source": [
    "## 4. Função Lambda (Função Anônima)"
   ]
  },
  {
   "cell_type": "code",
   "execution_count": null,
   "metadata": {},
   "source": [
    "# Função lambda para calcular potência\n", "potencia = lambda base, expoente: base ** expoente\n", "\n", "# Exemplo de uso\n", "print(f'2 elevado a 3 = {potencia(2, 3)}')\n", "print(f'5 elevado a 2 = {potencia(5, 2)}')"
   ]
  },
  {
   "cell_type": "markdown",
   "metadata": {},
   "source": [
    "## 5. Função Recursiva"
   ]
  },
  {
   "cell_type": "code",
   "execution_count": null,
   "metadata": {},
   "source": [
    "def fatorial(n):\n", "    \"\"\"Calcula o fatorial de um número usando recursão\"\"\"\n", "    if n == 0 or n == 1:\n", "        return 1\n", "    return n * fatorial(n-1)\n", "\n", "# Exemplo de uso\n", "print(f'Fatorial de 5: {fatorial(5)}')\n", "print(f'Fatorial de 3: {fatorial(3)}')"
   ]
  },
  {
   "cell_type": "markdown",
   "metadata": {},
   "source": [
    "## 6. Função com Docstring e Anotações de Tipo"
   ]
  },
  {
   "cell_type": "code",
   "execution_count": null,
   "metadata": {},
   "source": [
    "def calcular_imc(peso: float, altura: float) -> float:\n", "    \"\"\"\"\"\"\n", "    Calcula o Índice de Massa Corporal (IMC)\n", "    \n", "    Args:\n", "        peso (float): Peso em quilogramas\n", "        altura (float): Altura em metros\n", "        \n", "    Returns:\n", "        float: O valor do IMC\n", "    \n", "    Raises:\n", "        ValueError: Se altura for zero\n", "    \"\"\"\"\"\"\n", "    if altura == 0:\n", "        raise ValueError('Altura não pode ser zero')\n", "    return peso / (altura ** 2)\n", "\n", "# Exemplo de uso\n", "try:\n", "    imc = calcular_imc(70.0, 1.75)\n", "    print(f'Seu IMC é: {imc:.2f}')\n", "except ValueError as e:\n", "    print(e)"
   ]
  },
  {
   "cell_type": "markdown",
   "metadata": {},
   "source": [
    "## 7. Função com Decorador"
   ]
  },
  {
   "cell_type": "code",
   "execution_count": null,
   "metadata": {},
   "source": [
    "def tempo_de_execucao(func):\n", "    def wrapper(*args, **kwargs):\n", "        import time\n", "        inicio = time.time()\n", "        resultado = func(*args, **kwargs)\n", "        fim = time.time()\n", "        print(f'Tempo de execução: {fim - inicio:.4f} segundos')\n", "        return resultado\n", "    return wrapper\n", "\n", "@tempo_de_execucao\n", "def contar_ate(n):\n", "    return sum(range(n))\n", "\n", "# Exemplo de uso\n", "resultado = contar_ate(1000000)\n", "print(f'Resultado: {resultado}')"
   ]
  }
 ],
 "metadata": {
  "kernelspec": {
   "display_name": "Python 3",
   "language": "python",
   "name": "python3"
  },
  "language_info": {
   "codemirror_mode": {
    "name": "ipython",
    "version": 3
   },
   "file_extension": ".py",
   "mimetype": "text/x-python",
   "name": "python",
   "nbconvert_exporter": "python",
   "pygments_lexer": "ipython3",
   "version": "3.8.0"
  }
 },
 "nbformat": 4,
 "nbformat_minor": 4
}
