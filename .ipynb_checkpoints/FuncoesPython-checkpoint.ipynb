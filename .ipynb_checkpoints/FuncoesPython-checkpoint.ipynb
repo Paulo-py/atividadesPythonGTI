{
 "cells": [
  {
   "cell_type": "code",
   "execution_count": null,
   "id": "e7edd026",
   "metadata": {},
   "outputs": [],
   "source": [
    "# Definindo uma função\n",
    "def funcaoUm (nome):\n",
    "    print(\"Seu nome é %s\" %(nome))\n",
    "\n",
    "x = input(\"Digite seu nome: \")"
   ]
  },
  {
   "cell_type": "code",
   "execution_count": null,
   "id": "3be55445",
   "metadata": {},
   "outputs": [
    {
     "name": "stdout",
     "output_type": "stream",
     "text": [
      "Olá Mundo\n"
     ]
    }
   ],
   "source": [
    "funcaoUm(input(\"Digite seu nome:\"))"
   ]
  },
  {
   "cell_type": "code",
   "execution_count": null,
   "id": "3d49a5ca",
   "metadata": {},
   "outputs": [],
   "source": [
    "funcaoUm(x)"
   ]
  }
 ],
 "metadata": {
  "kernelspec": {
   "display_name": "Python 3",
   "language": "python",
   "name": "python3"
  },
  "language_info": {
   "codemirror_mode": {
    "name": "ipython",
    "version": 3
   },
   "file_extension": ".py",
   "mimetype": "text/x-python",
   "name": "python",
   "nbconvert_exporter": "python",
   "pygments_lexer": "ipython3",
   "version": "3.13.2"
  }
 },
 "nbformat": 4,
 "nbformat_minor": 5
}
