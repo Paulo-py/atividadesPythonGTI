{
 "cells": [
  {
   "cell_type": "code",
   "execution_count": 4,
   "id": "4bb6b71a-0fa8-4fc7-a570-8be529034335",
   "metadata": {},
   "outputs": [
    {
     "data": {
      "text/plain": [
       "0.8"
      ]
     },
     "execution_count": 4,
     "metadata": {},
     "output_type": "execute_result"
    }
   ],
   "source": [
    "a = 4\n",
    "b = 5\n",
    "c = a + b\n",
    "c\n",
    "a / b"
   ]
  },
  {
   "cell_type": "code",
   "execution_count": 5,
   "id": "1d0c4281-b9ef-4ff6-9a74-034404940ed2",
   "metadata": {},
   "outputs": [
    {
     "data": {
      "text/plain": [
       "20"
      ]
     },
     "execution_count": 5,
     "metadata": {},
     "output_type": "execute_result"
    }
   ],
   "source": [
    "a = 6\n",
    "a + b + c"
   ]
  },
  {
   "cell_type": "code",
   "execution_count": 8,
   "id": "08c9ec5d-06cb-430a-9f5e-9961bd64bbc3",
   "metadata": {},
   "outputs": [
    {
     "name": "stdin",
     "output_type": "stream",
     "text": [
      "Digite o primeiro úmero:  54444684668175648165184\n",
      "Digite o segundo número 46151657557448615146846844\n"
     ]
    },
    {
     "data": {
      "text/plain": [
       "46206102242116790795012028"
      ]
     },
     "execution_count": 8,
     "metadata": {},
     "output_type": "execute_result"
    }
   ],
   "source": [
    "a = int(input(\"Digite o primeiro úmero: \"))\n",
    "b = int(input(\"Digite o segundo número\"))\n",
    "a + b"
   ]
  },
  {
   "cell_type": "code",
   "execution_count": 11,
   "id": "7bb536dc-932e-432f-aeb4-afad40965e36",
   "metadata": {},
   "outputs": [
    {
     "name": "stdin",
     "output_type": "stream",
     "text": [
      "Quem é o amor da sua vida? Liozita\n"
     ]
    },
    {
     "name": "stdout",
     "output_type": "stream",
     "text": [
      "O amor da sua vida é a  Liozita !\n"
     ]
    }
   ],
   "source": [
    "y = input(\"Quem é o amor da sua vida?\")\n",
    "print(\"O amor da sua vida é a \", y,\"!\")"
   ]
  },
  {
   "cell_type": "code",
   "execution_count": null,
   "id": "bcc70478-ba12-4356-b8ce-38d4360b1748",
   "metadata": {},
   "outputs": [],
   "source": []
  }
 ],
 "metadata": {
  "kernelspec": {
   "display_name": "Python 3 (ipykernel)",
   "language": "python",
   "name": "python3"
  },
  "language_info": {
   "codemirror_mode": {
    "name": "ipython",
    "version": 3
   },
   "file_extension": ".py",
   "mimetype": "text/x-python",
   "name": "python",
   "nbconvert_exporter": "python",
   "pygments_lexer": "ipython3",
   "version": "3.13.2"
  }
 },
 "nbformat": 4,
 "nbformat_minor": 5
}
